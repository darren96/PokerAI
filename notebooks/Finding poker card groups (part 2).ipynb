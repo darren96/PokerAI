{
 "cells": [
  {
   "cell_type": "markdown",
   "metadata": {},
   "source": [
    "# Grouping poker hands together (Part 2: Preflop groups)\n",
    "\n",
    "This notebook explores a method for grouping abstract groups of cards together. Lets load the cards from last time. And compute their histograms.\n"
   ]
  },
  {
   "cell_type": "code",
   "execution_count": 1,
   "metadata": {},
   "outputs": [],
   "source": [
    "import pickle\n",
    "cards1 = pickle.load(open(\"hole_cards(group1).cards\", \"rb\"))\n",
    "cards2 = pickle.load(open(\"hole_cards.cards\", \"rb\"))\n",
    "cards = {}\n",
    "for c in cards1:\n",
    "    cards[c] = cards1[c]\n",
    "for c in cards2:\n",
    "    cards[c] = cards2[c]\n",
    "len(cards)"
   ]
  },
  {
   "cell_type": "code",
   "execution_count": 2,
   "metadata": {},
   "outputs": [],
   "source": [
    "import numpy as np\n",
    "\n",
    "hist = {}\n",
    "for hole in cards:\n",
    "    hist[hole] = np.histogram(cards[hole], range=(0,1), bins=10)"
   ]
  },
  {
   "cell_type": "markdown",
   "metadata": {},
   "source": [
    "We will be comparing the cosine distance between individual hands. This will allow us to compute the difference between the cards histograms, and thus how different they are. I tried a few other methods for distance calculation but found that this worked best."
   ]
  },
  {
   "cell_type": "code",
   "execution_count": 3,
   "metadata": {},
   "outputs": [
    {
     "data": {
      "text/plain": [
       "0.98080834506996228"
      ]
     },
     "execution_count": 3,
     "metadata": {},
     "output_type": "execute_result"
    }
   ],
   "source": [
    "from math import log\n",
    "\n",
    "def cosine_distance(hist1, hist2):\n",
    "    res = 0\n",
    "    for i in range(len(hist1[0])):\n",
    "        res += hist1[0][i] * hist2[0][i]\n",
    "    return res/(sum(map(lambda x: x*x, hist1[0]))*sum(map(lambda x: x*x, hist2[0])))**0.5\n",
    "\n",
    "cosine_distance(hist[\"('S9', 'ST')\"], hist[\"('ST', 'SJ')\"])"
   ]
  },
  {
   "cell_type": "markdown",
   "metadata": {},
   "source": [
    "Lets measure the strategic difference between all pairs of card combinations."
   ]
  },
  {
   "cell_type": "code",
   "execution_count": 4,
   "metadata": {},
   "outputs": [],
   "source": [
    "from math import acos\n",
    "arr = np.zeros(shape=(len(hist), len(hist)))\n",
    "i,j = 0,0\n",
    "card_index = {}\n",
    "for k1 in hist:\n",
    "    card_index[i] = k1 \n",
    "    j = 0\n",
    "    for k2 in hist:\n",
    "        arr[i][j] = acos(cosine_distance(hist[k1], hist[k2]))\n",
    "        j += 1\n",
    "    i += 1"
   ]
  },
  {
   "cell_type": "code",
   "execution_count": 5,
   "metadata": {},
   "outputs": [
    {
     "data": {
      "text/plain": [
       "array([[ 0.        ,  0.13832866,  0.22628844, ...,  0.54564853,\n",
       "         0.49809608,  0.5833211 ],\n",
       "       [ 0.13832866,  0.        ,  0.11655869, ...,  0.51930656,\n",
       "         0.43120322,  0.49316373],\n",
       "       [ 0.22628844,  0.11655869,  0.        , ...,  0.58837993,\n",
       "         0.49099735,  0.53168689],\n",
       "       ..., \n",
       "       [ 0.54564853,  0.51930656,  0.58837993, ...,  0.        ,\n",
       "         0.28169537,  0.39356426],\n",
       "       [ 0.49809608,  0.43120322,  0.49099735, ...,  0.28169537,\n",
       "         0.        ,  0.16898751],\n",
       "       [ 0.5833211 ,  0.49316373,  0.53168689, ...,  0.39356426,\n",
       "         0.16898751,  0.        ]])"
      ]
     },
     "execution_count": 5,
     "metadata": {},
     "output_type": "execute_result"
    }
   ],
   "source": [
    "arr"
   ]
  },
  {
   "cell_type": "markdown",
   "metadata": {},
   "source": [
    "Now we can cluster the cards into groups using the DBSCAN algorithm. This allows us to see different \"groups of cards\""
   ]
  },
  {
   "cell_type": "code",
   "execution_count": 32,
   "metadata": {},
   "outputs": [
    {
     "data": {
      "text/plain": [
       "1326"
      ]
     },
     "execution_count": 32,
     "metadata": {},
     "output_type": "execute_result"
    }
   ],
   "source": [
    "from sklearn.cluster import DBSCAN\n",
    "res = DBSCAN(eps=0.13, metric=\"precomputed\")\n",
    "ft = res.fit_predict(arr)\n",
    "len(ft)"
   ]
  },
  {
   "cell_type": "code",
   "execution_count": 33,
   "metadata": {},
   "outputs": [
    {
     "data": {
      "text/plain": [
       "17"
      ]
     },
     "execution_count": 33,
     "metadata": {},
     "output_type": "execute_result"
    }
   ],
   "source": [
    "max(ft)"
   ]
  },
  {
   "cell_type": "markdown",
   "metadata": {},
   "source": [
    "The above array contains the set of cards for all the different card groups. Each number corresponds to a separate cluster. Thus cards in 3 all behave in a very similar way. Lets explore these clusters a bit. The next set of graphs show the behaviour of individual cards from the clusters."
   ]
  },
  {
   "cell_type": "code",
   "execution_count": 34,
   "metadata": {},
   "outputs": [
    {
     "data": {
      "image/png": "[encoded data removed]",
      "text/plain": [
       "<Figure size 432x288 with 1 Axes>"
      ]
     },
     "metadata": {
      "needs_background": "light"
     },
     "output_type": "display_data"
    },
    {
     "data": {
      "image/png": "[encoded data removed]",
      "text/plain": [
       "<Figure size 432x288 with 1 Axes>"
      ]
     },
     "metadata": {
      "needs_background": "light"
     },
     "output_type": "display_data"
    },
    {
     "data": {
      "image/png": "[encoded data removed]",
      "text/plain": [
       "<Figure size 432x288 with 1 Axes>"
      ]
     },
     "metadata": {
      "needs_background": "light"
     },
     "output_type": "display_data"
    },
    {
     "data": {
      "image/png": "[encoded data removed]",
      "text/plain": [
       "<Figure size 432x288 with 1 Axes>"
      ]
     },
     "metadata": {
      "needs_background": "light"
     },
     "output_type": "display_data"
    },
    {
     "data": {
      "image/png": "[encoded data removed]",
      "text/plain": [
       "<Figure size 432x288 with 1 Axes>"
      ]
     },
     "metadata": {
      "needs_background": "light"
     },
     "output_type": "display_data"
    },
    {
     "data": {
      "image/png": "[encoded data removed]",
      "text/plain": [
       "<Figure size 432x288 with 1 Axes>"
      ]
     },
     "metadata": {
      "needs_background": "light"
     },
     "output_type": "display_data"
    },
    {
     "data": {
      "image/png": "[encoded data removed]",
      "text/plain": [
       "<Figure size 432x288 with 1 Axes>"
      ]
     },
     "metadata": {
      "needs_background": "light"
     },
     "output_type": "display_data"
    },
    {
     "data": {
      "image/png": "[encoded data removed]",
      "text/plain": [
       "<Figure size 432x288 with 1 Axes>"
      ]
     },
     "metadata": {
      "needs_background": "light"
     },
     "output_type": "display_data"
    },
    {
     "data": {
      "image/png": "[encoded data removed]",
      "text/plain": [
       "<Figure size 432x288 with 1 Axes>"
      ]
     },
     "metadata": {
      "needs_background": "light"
     },
     "output_type": "display_data"
    },
    {
     "data": {
      "image/png": "[encoded data removed]",
      "text/plain": [
       "<Figure size 432x288 with 1 Axes>"
      ]
     },
     "metadata": {
      "needs_background": "light"
     },
     "output_type": "display_data"
    },
    {
     "data": {
      "image/png": "[encoded data removed]",
      "text/plain": [
       "<Figure size 432x288 with 1 Axes>"
      ]
     },
     "metadata": {
      "needs_background": "light"
     },
     "output_type": "display_data"
    },
    {
     "data": {
      "image/png": "[encoded data removed]",
      "text/plain": [
       "<Figure size 432x288 with 1 Axes>"
      ]
     },
     "metadata": {
      "needs_background": "light"
     },
     "output_type": "display_data"
    },
    {
     "data": {
      "image/png": "[encoded data removed]",
      "text/plain": [
       "<Figure size 432x288 with 1 Axes>"
      ]
     },
     "metadata": {
      "needs_background": "light"
     },
     "output_type": "display_data"
    },
    {
     "data": {
      "image/png": "[encoded data removed]",
      "text/plain": [
       "<Figure size 432x288 with 1 Axes>"
      ]
     },
     "metadata": {
      "needs_background": "light"
     },
     "output_type": "display_data"
    },
    {
     "data": {
      "image/png": "[encoded data removed]",
      "text/plain": [
       "<Figure size 432x288 with 1 Axes>"
      ]
     },
     "metadata": {
      "needs_background": "light"
     },
     "output_type": "display_data"
    },
    {
     "data": {
      "image/png": "[encoded data removed]",
      "text/plain": [
       "<Figure size 432x288 with 1 Axes>"
      ]
     },
     "metadata": {
      "needs_background": "light"
     },
     "output_type": "display_data"
    },
    {
     "data": {
      "image/png": "[encoded data removed]",
      "text/plain": [
       "<Figure size 432x288 with 1 Axes>"
      ]
     },
     "metadata": {
      "needs_background": "light"
     },
     "output_type": "display_data"
    }
   ],
   "source": [
    "%matplotlib inline\n",
    "\n",
    "from matplotlib import pyplot as plt \n",
    "for i in range(max(ft)):\n",
    "    plt.hist(cards[card_index[list(ft).index(i)]])\n",
    "    plt.show()"
   ]
  },
  {
   "cell_type": "markdown",
   "metadata": {},
   "source": [
    "Lets see on average what each group of cards represents."
   ]
  },
  {
   "cell_type": "code",
   "execution_count": 35,
   "metadata": {},
   "outputs": [
    {
     "data": {
      "image/png": "[encoded data removed]",
      "text/plain": [
       "<Figure size 432x288 with 1 Axes>"
      ]
     },
     "metadata": {
      "needs_background": "light"
     },
     "output_type": "display_data"
    },
    {
     "data": {
      "image/png": "[encoded data removed]",
      "text/plain": [
       "<Figure size 432x288 with 1 Axes>"
      ]
     },
     "metadata": {
      "needs_background": "light"
     },
     "output_type": "display_data"
    },
    {
     "data": {
      "image/png": "[encoded data removed]",
      "text/plain": [
       "<Figure size 432x288 with 1 Axes>"
      ]
     },
     "metadata": {
      "needs_background": "light"
     },
     "output_type": "display_data"
    },
    {
     "data": {
      "image/png": "[encoded data removed]",
      "text/plain": [
       "<Figure size 432x288 with 1 Axes>"
      ]
     },
     "metadata": {
      "needs_background": "light"
     },
     "output_type": "display_data"
    },
    {
     "data": {
      "image/png": "[encoded data removed]",
      "text/plain": [
       "<Figure size 432x288 with 1 Axes>"
      ]
     },
     "metadata": {
      "needs_background": "light"
     },
     "output_type": "display_data"
    },
    {
     "data": {
      "image/png": "[encoded data removed]",
      "text/plain": [
       "<Figure size 432x288 with 1 Axes>"
      ]
     },
     "metadata": {
      "needs_background": "light"
     },
     "output_type": "display_data"
    },
    {
     "data": {
      "image/png": "[encoded data removed]",
      "text/plain": [
       "<Figure size 432x288 with 1 Axes>"
      ]
     },
     "metadata": {
      "needs_background": "light"
     },
     "output_type": "display_data"
    },
    {
     "data": {
      "image/png": "[encoded data removed]",
      "text/plain": [
       "<Figure size 432x288 with 1 Axes>"
      ]
     },
     "metadata": {
      "needs_background": "light"
     },
     "output_type": "display_data"
    },
    {
     "data": {
      "image/png": "[encoded data removed]",
      "text/plain": [
       "<Figure size 432x288 with 1 Axes>"
      ]
     },
     "metadata": {
      "needs_background": "light"
     },
     "output_type": "display_data"
    },
    {
     "data": {
      "image/png": "[encoded data removed]",
      "text/plain": [
       "<Figure size 432x288 with 1 Axes>"
      ]
     },
     "metadata": {
      "needs_background": "light"
     },
     "output_type": "display_data"
    },
    {
     "data": {
      "image/png": "[encoded data removed]",
      "text/plain": [
       "<Figure size 432x288 with 1 Axes>"
      ]
     },
     "metadata": {
      "needs_background": "light"
     },
     "output_type": "display_data"
    },
    {
     "data": {
      "image/png": "[encoded data removed]",
      "text/plain": [
       "<Figure size 432x288 with 1 Axes>"
      ]
     },
     "metadata": {
      "needs_background": "light"
     },
     "output_type": "display_data"
    },
    {
     "data": {
      "image/png": "[encoded data removed]",
      "text/plain": [
       "<Figure size 432x288 with 1 Axes>"
      ]
     },
     "metadata": {
      "needs_background": "light"
     },
     "output_type": "display_data"
    },
    {
     "data": {
      "image/png": "[encoded data removed]",
      "text/plain": [
       "<Figure size 432x288 with 1 Axes>"
      ]
     },
     "metadata": {
      "needs_background": "light"
     },
     "output_type": "display_data"
    },
    {
     "data": {
      "image/png": "[encoded data removed]",
      "text/plain": [
       "<Figure size 432x288 with 1 Axes>"
      ]
     },
     "metadata": {
      "needs_background": "light"
     },
     "output_type": "display_data"
    },
    {
     "data": {
      "image/png": "[encoded data removed]",
      "text/plain": [
       "<Figure size 432x288 with 1 Axes>"
      ]
     },
     "metadata": {
      "needs_background": "light"
     },
     "output_type": "display_data"
    },
    {
     "data": {
      "image/png": "[encoded data removed]",
      "text/plain": [
       "<Figure size 432x288 with 1 Axes>"
      ]
     },
     "metadata": {
      "needs_background": "light"
     },
     "output_type": "display_data"
    }
   ],
   "source": [
    "for i in range(max(ft)):\n",
    "    indices = filter(lambda x: x[1] == i, zip(range(len(ft)),ft))\n",
    "    lst = []\n",
    "    for index,val in indices:\n",
    "        lst += cards[card_index[index]]\n",
    "    plt.hist(lst)\n",
    "    plt.show()"
   ]
  },
  {
   "cell_type": "code",
   "execution_count": 139,
   "metadata": {},
   "outputs": [
    {
     "data": {
      "text/plain": [
       "\"('S2', 'S4')\""
      ]
     },
     "execution_count": 139,
     "metadata": {},
     "output_type": "execute_result"
    }
   ],
   "source": [
    "card_index[list(ft).index(1)]"
   ]
  },
  {
   "cell_type": "code",
   "execution_count": 39,
   "metadata": {},
   "outputs": [],
   "source": [
    "output = {}\n",
    "for c in range(len(card_index)):\n",
    "    output[card_index[c]] = ft[c]\n",
    "    \n",
    "pickle.dump(output, open(\"2hand_groups.cards\", \"wb+\"))"
   ]
  },
  {
   "cell_type": "code",
   "execution_count": 40,
   "metadata": {},
   "outputs": [
    {
     "data": {
      "text/plain": [
       "{\"('SA', 'S2')\": -1,\n",
       " \"('SA', 'S3')\": 0,\n",
       " \"('SA', 'S4')\": 0,\n",
       " \"('SA', 'S5')\": 0,\n",
       " \"('SA', 'S6')\": 0,\n",
       " \"('SA', 'S7')\": 0,\n",
       " \"('SA', 'S8')\": 0,\n",
       " \"('SA', 'S9')\": 0,\n",
       " \"('SA', 'ST')\": 0,\n",
       " \"('SA', 'SJ')\": 0,\n",
       " \"('SA', 'SQ')\": 0,\n",
       " \"('SA', 'SK')\": 0,\n",
       " \"('SA', 'DA')\": 1,\n",
       " \"('SA', 'D2')\": 0,\n",
       " \"('SA', 'D3')\": 0,\n",
       " \"('SA', 'D4')\": 0,\n",
       " \"('SA', 'D5')\": 0,\n",
       " \"('SA', 'D6')\": 0,\n",
       " \"('SA', 'D7')\": 0,\n",
       " \"('SA', 'D8')\": 0,\n",
       " \"('SA', 'D9')\": 0,\n",
       " \"('SA', 'DT')\": 0,\n",
       " \"('SA', 'DJ')\": 0,\n",
       " \"('SA', 'DQ')\": 0,\n",
       " \"('SA', 'DK')\": 0,\n",
       " \"('SA', 'HA')\": 1,\n",
       " \"('SA', 'H2')\": 0,\n",
       " \"('SA', 'H3')\": 0,\n",
       " \"('SA', 'H4')\": 0,\n",
       " \"('SA', 'H5')\": 0,\n",
       " \"('SA', 'H6')\": 0,\n",
       " \"('SA', 'H7')\": 0,\n",
       " \"('SA', 'H8')\": 0,\n",
       " \"('SA', 'H9')\": 0,\n",
       " \"('SA', 'HT')\": 0,\n",
       " \"('SA', 'HJ')\": 0,\n",
       " \"('SA', 'HQ')\": 0,\n",
       " \"('SA', 'HK')\": 0,\n",
       " \"('SA', 'CA')\": 1,\n",
       " \"('SA', 'C2')\": 0,\n",
       " \"('SA', 'C3')\": 0,\n",
       " \"('SA', 'C4')\": 0,\n",
       " \"('SA', 'C5')\": 0,\n",
       " \"('SA', 'C6')\": 0,\n",
       " \"('SA', 'C7')\": 0,\n",
       " \"('SA', 'C8')\": 0,\n",
       " \"('SA', 'C9')\": 0,\n",
       " \"('SA', 'CT')\": 0,\n",
       " \"('SA', 'CJ')\": 0,\n",
       " \"('SA', 'CQ')\": 0,\n",
       " \"('SA', 'CK')\": 0,\n",
       " \"('S2', 'S3')\": 2,\n",
       " \"('S2', 'S4')\": 2,\n",
       " \"('S2', 'S5')\": 2,\n",
       " \"('S2', 'S6')\": 2,\n",
       " \"('S2', 'S7')\": 2,\n",
       " \"('S2', 'S8')\": 2,\n",
       " \"('S2', 'S9')\": 15,\n",
       " \"('S2', 'ST')\": 0,\n",
       " \"('S2', 'SJ')\": -1,\n",
       " \"('S2', 'SQ')\": -1,\n",
       " \"('S2', 'SK')\": 0,\n",
       " \"('S2', 'DA')\": 0,\n",
       " \"('S2', 'D2')\": 3,\n",
       " \"('S2', 'D3')\": 2,\n",
       " \"('S2', 'D4')\": 2,\n",
       " \"('S2', 'D5')\": 2,\n",
       " \"('S2', 'D6')\": 2,\n",
       " \"('S2', 'D7')\": 2,\n",
       " \"('S2', 'D8')\": 2,\n",
       " \"('S2', 'D9')\": 4,\n",
       " \"('S2', 'DT')\": 0,\n",
       " \"('S2', 'DJ')\": 0,\n",
       " \"('S2', 'DQ')\": 0,\n",
       " \"('S2', 'DK')\": 0,\n",
       " \"('S2', 'HA')\": 0,\n",
       " \"('S2', 'H2')\": 3,\n",
       " \"('S2', 'H3')\": 2,\n",
       " \"('S2', 'H4')\": 2,\n",
       " \"('S2', 'H5')\": 2,\n",
       " \"('S2', 'H6')\": 2,\n",
       " \"('S2', 'H7')\": 2,\n",
       " \"('S2', 'H8')\": 2,\n",
       " \"('S2', 'H9')\": 4,\n",
       " \"('S2', 'HT')\": 0,\n",
       " \"('S2', 'HJ')\": 0,\n",
       " \"('S2', 'HQ')\": 0,\n",
       " \"('S2', 'HK')\": 0,\n",
       " \"('S2', 'CA')\": 0,\n",
       " \"('S2', 'C2')\": 3,\n",
       " \"('S2', 'C3')\": 2,\n",
       " \"('S2', 'C4')\": 2,\n",
       " \"('S2', 'C5')\": 2,\n",
       " \"('S2', 'C6')\": 2,\n",
       " \"('S2', 'C7')\": 2,\n",
       " \"('S2', 'C8')\": 2,\n",
       " \"('S2', 'C9')\": 4,\n",
       " \"('S2', 'CT')\": 0,\n",
       " \"('S2', 'CJ')\": 0,\n",
       " \"('S2', 'CQ')\": 0,\n",
       " \"('S2', 'CK')\": 0,\n",
       " \"('S3', 'S4')\": 2,\n",
       " \"('S3', 'S5')\": 2,\n",
       " \"('S3', 'S6')\": 2,\n",
       " \"('S3', 'S7')\": 2,\n",
       " \"('S3', 'S8')\": 2,\n",
       " \"('S3', 'S9')\": 15,\n",
       " \"('S3', 'ST')\": 0,\n",
       " \"('S3', 'SJ')\": 0,\n",
       " \"('S3', 'SQ')\": 0,\n",
       " \"('S3', 'SK')\": 0,\n",
       " \"('S3', 'DA')\": 0,\n",
       " \"('S3', 'D2')\": 2,\n",
       " \"('S3', 'D3')\": 5,\n",
       " \"('S3', 'D4')\": 2,\n",
       " \"('S3', 'D5')\": 2,\n",
       " \"('S3', 'D6')\": 2,\n",
       " \"('S3', 'D7')\": 2,\n",
       " \"('S3', 'D8')\": 2,\n",
       " \"('S3', 'D9')\": 4,\n",
       " \"('S3', 'DT')\": 0,\n",
       " \"('S3', 'DJ')\": 0,\n",
       " \"('S3', 'DQ')\": 0,\n",
       " \"('S3', 'DK')\": 0,\n",
       " \"('S3', 'HA')\": 0,\n",
       " \"('S3', 'H2')\": 2,\n",
       " \"('S3', 'H3')\": 5,\n",
       " \"('S3', 'H4')\": 2,\n",
       " \"('S3', 'H5')\": 2,\n",
       " \"('S3', 'H6')\": 2,\n",
       " \"('S3', 'H7')\": 2,\n",
       " \"('S3', 'H8')\": 2,\n",
       " \"('S3', 'H9')\": 4,\n",
       " \"('S3', 'HT')\": 0,\n",
       " \"('S3', 'HJ')\": 0,\n",
       " \"('S3', 'HQ')\": 0,\n",
       " \"('S3', 'HK')\": 0,\n",
       " \"('S3', 'CA')\": 0,\n",
       " \"('S3', 'C2')\": 2,\n",
       " \"('S3', 'C3')\": 5,\n",
       " \"('S3', 'C4')\": 2,\n",
       " \"('S3', 'C5')\": 2,\n",
       " \"('S3', 'C6')\": 2,\n",
       " \"('S3', 'C7')\": 2,\n",
       " \"('S3', 'C8')\": 2,\n",
       " \"('S3', 'C9')\": 4,\n",
       " \"('S3', 'CT')\": 0,\n",
       " \"('S3', 'CJ')\": 0,\n",
       " \"('S3', 'CQ')\": 0,\n",
       " \"('S3', 'CK')\": 0,\n",
       " \"('S4', 'S5')\": 2,\n",
       " \"('S4', 'S6')\": 2,\n",
       " \"('S4', 'S7')\": 16,\n",
       " \"('S4', 'S8')\": 2,\n",
       " \"('S4', 'S9')\": 2,\n",
       " \"('S4', 'ST')\": 0,\n",
       " \"('S4', 'SJ')\": 0,\n",
       " \"('S4', 'SQ')\": 0,\n",
       " \"('S4', 'SK')\": 0,\n",
       " \"('S4', 'DA')\": 0,\n",
       " \"('S4', 'D2')\": 2,\n",
       " \"('S4', 'D3')\": 2,\n",
       " \"('S4', 'D4')\": 6,\n",
       " \"('S4', 'D5')\": 2,\n",
       " \"('S4', 'D6')\": 2,\n",
       " \"('S4', 'D7')\": 2,\n",
       " \"('S4', 'D8')\": 2,\n",
       " \"('S4', 'D9')\": 2,\n",
       " \"('S4', 'DT')\": 0,\n",
       " \"('S4', 'DJ')\": 0,\n",
       " \"('S4', 'DQ')\": 0,\n",
       " \"('S4', 'DK')\": 0,\n",
       " \"('S4', 'HA')\": 0,\n",
       " \"('S4', 'H2')\": 2,\n",
       " \"('S4', 'H3')\": 2,\n",
       " \"('S4', 'H4')\": 6,\n",
       " \"('S4', 'H5')\": 2,\n",
       " \"('S4', 'H6')\": 2,\n",
       " \"('S4', 'H7')\": 2,\n",
       " \"('S4', 'H8')\": 2,\n",
       " \"('S4', 'H9')\": 2,\n",
       " \"('S4', 'HT')\": 0,\n",
       " \"('S4', 'HJ')\": 0,\n",
       " \"('S4', 'HQ')\": 0,\n",
       " \"('S4', 'HK')\": 0,\n",
       " \"('S4', 'CA')\": 0,\n",
       " \"('S4', 'C2')\": 2,\n",
       " \"('S4', 'C3')\": 2,\n",
       " \"('S4', 'C4')\": 6,\n",
       " \"('S4', 'C5')\": 2,\n",
       " \"('S4', 'C6')\": 2,\n",
       " \"('S4', 'C7')\": 2,\n",
       " \"('S4', 'C8')\": 2,\n",
       " \"('S4', 'C9')\": 2,\n",
       " \"('S4', 'CT')\": 0,\n",
       " \"('S4', 'CJ')\": 0,\n",
       " \"('S4', 'CQ')\": 0,\n",
       " \"('S4', 'CK')\": 0,\n",
       " \"('S5', 'S6')\": 2,\n",
       " \"('S5', 'S7')\": 7,\n",
       " \"('S5', 'S8')\": 2,\n",
       " \"('S5', 'S9')\": 2,\n",
       " \"('S5', 'ST')\": 0,\n",
       " \"('S5', 'SJ')\": 0,\n",
       " \"('S5', 'SQ')\": 0,\n",
       " \"('S5', 'SK')\": 0,\n",
       " \"('S5', 'DA')\": 0,\n",
       " \"('S5', 'D2')\": 2,\n",
       " \"('S5', 'D3')\": 2,\n",
       " \"('S5', 'D4')\": 2,\n",
       " \"('S5', 'D5')\": 8,\n",
       " \"('S5', 'D6')\": 2,\n",
       " \"('S5', 'D7')\": 2,\n",
       " \"('S5', 'D8')\": 2,\n",
       " \"('S5', 'D9')\": 2,\n",
       " \"('S5', 'DT')\": 0,\n",
       " \"('S5', 'DJ')\": 0,\n",
       " \"('S5', 'DQ')\": 0,\n",
       " \"('S5', 'DK')\": 0,\n",
       " \"('S5', 'HA')\": 0,\n",
       " \"('S5', 'H2')\": 2,\n",
       " \"('S5', 'H3')\": 2,\n",
       " \"('S5', 'H4')\": 2,\n",
       " \"('S5', 'H5')\": 8,\n",
       " \"('S5', 'H6')\": 2,\n",
       " \"('S5', 'H7')\": 2,\n",
       " \"('S5', 'H8')\": 2,\n",
       " \"('S5', 'H9')\": 2,\n",
       " \"('S5', 'HT')\": 0,\n",
       " \"('S5', 'HJ')\": 0,\n",
       " \"('S5', 'HQ')\": 0,\n",
       " \"('S5', 'HK')\": 0,\n",
       " \"('S5', 'CA')\": 0,\n",
       " \"('S5', 'C2')\": 2,\n",
       " \"('S5', 'C3')\": 2,\n",
       " \"('S5', 'C4')\": 2,\n",
       " \"('S5', 'C5')\": 8,\n",
       " \"('S5', 'C6')\": 2,\n",
       " \"('S5', 'C7')\": 2,\n",
       " \"('S5', 'C8')\": 2,\n",
       " \"('S5', 'C9')\": 2,\n",
       " \"('S5', 'CT')\": 0,\n",
       " \"('S5', 'CJ')\": 0,\n",
       " \"('S5', 'CQ')\": 0,\n",
       " \"('S5', 'CK')\": 0,\n",
       " \"('S6', 'S7')\": 7,\n",
       " \"('S6', 'S8')\": 2,\n",
       " \"('S6', 'S9')\": 2,\n",
       " \"('S6', 'ST')\": 0,\n",
       " \"('S6', 'SJ')\": 0,\n",
       " \"('S6', 'SQ')\": 0,\n",
       " \"('S6', 'SK')\": 0,\n",
       " \"('S6', 'DA')\": 0,\n",
       " \"('S6', 'D2')\": 2,\n",
       " \"('S6', 'D3')\": 2,\n",
       " \"('S6', 'D4')\": 2,\n",
       " \"('S6', 'D5')\": 2,\n",
       " \"('S6', 'D6')\": 9,\n",
       " \"('S6', 'D7')\": 2,\n",
       " \"('S6', 'D8')\": 2,\n",
       " \"('S6', 'D9')\": 2,\n",
       " \"('S6', 'DT')\": 0,\n",
       " \"('S6', 'DJ')\": 0,\n",
       " \"('S6', 'DQ')\": 0,\n",
       " \"('S6', 'DK')\": 0,\n",
       " \"('S6', 'HA')\": 0,\n",
       " \"('S6', 'H2')\": 2,\n",
       " \"('S6', 'H3')\": 2,\n",
       " \"('S6', 'H4')\": 2,\n",
       " \"('S6', 'H5')\": 2,\n",
       " \"('S6', 'H6')\": 9,\n",
       " \"('S6', 'H7')\": 2,\n",
       " \"('S6', 'H8')\": 2,\n",
       " \"('S6', 'H9')\": 2,\n",
       " \"('S6', 'HT')\": 0,\n",
       " \"('S6', 'HJ')\": 0,\n",
       " \"('S6', 'HQ')\": 0,\n",
       " \"('S6', 'HK')\": 0,\n",
       " \"('S6', 'CA')\": 0,\n",
       " \"('S6', 'C2')\": 2,\n",
       " \"('S6', 'C3')\": 2,\n",
       " \"('S6', 'C4')\": 2,\n",
       " \"('S6', 'C5')\": 2,\n",
       " \"('S6', 'C6')\": 9,\n",
       " \"('S6', 'C7')\": 2,\n",
       " \"('S6', 'C8')\": 2,\n",
       " \"('S6', 'C9')\": 2,\n",
       " \"('S6', 'CT')\": 0,\n",
       " \"('S6', 'CJ')\": 0,\n",
       " \"('S6', 'CQ')\": 0,\n",
       " \"('S6', 'CK')\": 0,\n",
       " \"('S7', 'S8')\": 2,\n",
       " \"('S7', 'S9')\": 2,\n",
       " \"('S7', 'ST')\": 0,\n",
       " \"('S7', 'SJ')\": 0,\n",
       " \"('S7', 'SQ')\": 0,\n",
       " \"('S7', 'SK')\": 0,\n",
       " \"('S7', 'DA')\": 0,\n",
       " \"('S7', 'D2')\": 2,\n",
       " \"('S7', 'D3')\": 2,\n",
       " \"('S7', 'D4')\": 2,\n",
       " \"('S7', 'D5')\": 2,\n",
       " \"('S7', 'D6')\": 2,\n",
       " \"('S7', 'D7')\": 9,\n",
       " \"('S7', 'D8')\": 2,\n",
       " \"('S7', 'D9')\": 2,\n",
       " \"('S7', 'DT')\": 0,\n",
       " \"('S7', 'DJ')\": 0,\n",
       " \"('S7', 'DQ')\": 0,\n",
       " \"('S7', 'DK')\": 0,\n",
       " \"('S7', 'HA')\": 0,\n",
       " \"('S7', 'H2')\": 2,\n",
       " \"('S7', 'H3')\": 2,\n",
       " \"('S7', 'H4')\": 2,\n",
       " \"('S7', 'H5')\": 2,\n",
       " \"('S7', 'H6')\": 2,\n",
       " \"('S7', 'H7')\": 9,\n",
       " \"('S7', 'H8')\": 2,\n",
       " \"('S7', 'H9')\": 2,\n",
       " \"('S7', 'HT')\": 0,\n",
       " \"('S7', 'HJ')\": 0,\n",
       " \"('S7', 'HQ')\": 0,\n",
       " \"('S7', 'HK')\": 0,\n",
       " \"('S7', 'CA')\": 0,\n",
       " \"('S7', 'C2')\": 2,\n",
       " \"('S7', 'C3')\": 2,\n",
       " \"('S7', 'C4')\": 2,\n",
       " \"('S7', 'C5')\": 2,\n",
       " \"('S7', 'C6')\": 2,\n",
       " \"('S7', 'C7')\": 9,\n",
       " \"('S7', 'C8')\": 2,\n",
       " \"('S7', 'C9')\": 2,\n",
       " \"('S7', 'CT')\": 0,\n",
       " \"('S7', 'CJ')\": 0,\n",
       " \"('S7', 'CQ')\": 0,\n",
       " \"('S7', 'CK')\": 0,\n",
       " \"('S8', 'S9')\": 17,\n",
       " \"('S8', 'ST')\": 0,\n",
       " \"('S8', 'SJ')\": 0,\n",
       " \"('S8', 'SQ')\": 0,\n",
       " \"('S8', 'SK')\": 0,\n",
       " \"('S8', 'DA')\": 0,\n",
       " \"('S8', 'D2')\": 2,\n",
       " \"('S8', 'D3')\": 2,\n",
       " \"('S8', 'D4')\": 2,\n",
       " \"('S8', 'D5')\": 2,\n",
       " \"('S8', 'D6')\": 2,\n",
       " \"('S8', 'D7')\": 2,\n",
       " \"('S8', 'D8')\": 10,\n",
       " \"('S8', 'D9')\": 2,\n",
       " \"('S8', 'DT')\": 0,\n",
       " \"('S8', 'DJ')\": 0,\n",
       " \"('S8', 'DQ')\": 0,\n",
       " \"('S8', 'DK')\": 0,\n",
       " \"('S8', 'HA')\": 0,\n",
       " \"('S8', 'H2')\": 2,\n",
       " \"('S8', 'H3')\": 2,\n",
       " \"('S8', 'H4')\": 2,\n",
       " \"('S8', 'H5')\": 2,\n",
       " \"('S8', 'H6')\": 2,\n",
       " \"('S8', 'H7')\": 2,\n",
       " \"('S8', 'H8')\": 10,\n",
       " \"('S8', 'H9')\": 2,\n",
       " \"('S8', 'HT')\": 0,\n",
       " \"('S8', 'HJ')\": 0,\n",
       " \"('S8', 'HQ')\": 0,\n",
       " \"('S8', 'HK')\": 0,\n",
       " \"('S8', 'CA')\": 0,\n",
       " \"('S8', 'C2')\": 2,\n",
       " \"('S8', 'C3')\": 2,\n",
       " \"('S8', 'C4')\": 2,\n",
       " \"('S8', 'C5')\": 2,\n",
       " \"('S8', 'C6')\": 2,\n",
       " \"('S8', 'C7')\": 2,\n",
       " \"('S8', 'C8')\": 10,\n",
       " \"('S8', 'C9')\": 2,\n",
       " \"('S8', 'CT')\": 0,\n",
       " \"('S8', 'CJ')\": 0,\n",
       " \"('S8', 'CQ')\": 0,\n",
       " \"('S8', 'CK')\": 0,\n",
       " \"('S9', 'ST')\": 0,\n",
       " \"('S9', 'SJ')\": 0,\n",
       " \"('S9', 'SQ')\": 0,\n",
       " \"('S9', 'SK')\": 0,\n",
       " \"('S9', 'DA')\": 0,\n",
       " \"('S9', 'D2')\": 4,\n",
       " \"('S9', 'D3')\": 4,\n",
       " \"('S9', 'D4')\": 2,\n",
       " \"('S9', 'D5')\": 2,\n",
       " \"('S9', 'D6')\": 2,\n",
       " \"('S9', 'D7')\": 2,\n",
       " \"('S9', 'D8')\": 2,\n",
       " \"('S9', 'D9')\": 10,\n",
       " \"('S9', 'DT')\": 0,\n",
       " \"('S9', 'DJ')\": 0,\n",
       " \"('S9', 'DQ')\": 0,\n",
       " \"('S9', 'DK')\": 0,\n",
       " \"('S9', 'HA')\": 0,\n",
       " \"('S9', 'H2')\": 4,\n",
       " \"('S9', 'H3')\": 4,\n",
       " \"('S9', 'H4')\": 2,\n",
       " \"('S9', 'H5')\": 2,\n",
       " \"('S9', 'H6')\": 2,\n",
       " \"('S9', 'H7')\": 2,\n",
       " \"('S9', 'H8')\": 2,\n",
       " \"('S9', 'H9')\": 10,\n",
       " \"('S9', 'HT')\": 0,\n",
       " \"('S9', 'HJ')\": 0,\n",
       " \"('S9', 'HQ')\": 0,\n",
       " \"('S9', 'HK')\": 0,\n",
       " \"('S9', 'CA')\": 0,\n",
       " \"('S9', 'C2')\": 4,\n",
       " \"('S9', 'C3')\": 2,\n",
       " \"('S9', 'C4')\": 2,\n",
       " \"('S9', 'C5')\": 2,\n",
       " \"('S9', 'C6')\": 2,\n",
       " \"('S9', 'C7')\": 2,\n",
       " \"('S9', 'C8')\": 2,\n",
       " \"('S9', 'C9')\": 10,\n",
       " \"('S9', 'CT')\": 0,\n",
       " \"('S9', 'CJ')\": 0,\n",
       " \"('S9', 'CQ')\": 0,\n",
       " \"('S9', 'CK')\": 0,\n",
       " \"('ST', 'SJ')\": 0,\n",
       " \"('ST', 'SQ')\": 0,\n",
       " \"('ST', 'SK')\": 0,\n",
       " \"('ST', 'DA')\": 0,\n",
       " \"('ST', 'D2')\": 0,\n",
       " \"('ST', 'D3')\": 0,\n",
       " \"('ST', 'D4')\": 0,\n",
       " \"('ST', 'D5')\": 0,\n",
       " \"('ST', 'D6')\": 0,\n",
       " \"('ST', 'D7')\": 0,\n",
       " \"('ST', 'D8')\": 0,\n",
       " \"('ST', 'D9')\": 0,\n",
       " \"('ST', 'DT')\": 11,\n",
       " \"('ST', 'DJ')\": 0,\n",
       " \"('ST', 'DQ')\": 0,\n",
       " \"('ST', 'DK')\": 0,\n",
       " \"('ST', 'HA')\": 0,\n",
       " \"('ST', 'H2')\": 0,\n",
       " \"('ST', 'H3')\": 0,\n",
       " \"('ST', 'H4')\": 0,\n",
       " \"('ST', 'H5')\": 0,\n",
       " \"('ST', 'H6')\": 0,\n",
       " \"('ST', 'H7')\": 0,\n",
       " \"('ST', 'H8')\": 0,\n",
       " \"('ST', 'H9')\": 0,\n",
       " \"('ST', 'HT')\": 11,\n",
       " \"('ST', 'HJ')\": 0,\n",
       " \"('ST', 'HQ')\": 0,\n",
       " \"('ST', 'HK')\": 0,\n",
       " \"('ST', 'CA')\": 0,\n",
       " \"('ST', 'C2')\": 0,\n",
       " \"('ST', 'C3')\": 0,\n",
       " \"('ST', 'C4')\": 0,\n",
       " \"('ST', 'C5')\": 0,\n",
       " \"('ST', 'C6')\": 0,\n",
       " \"('ST', 'C7')\": 0,\n",
       " \"('ST', 'C8')\": 0,\n",
       " \"('ST', 'C9')\": 0,\n",
       " \"('ST', 'CT')\": 11,\n",
       " \"('ST', 'CJ')\": 0,\n",
       " \"('ST', 'CQ')\": 0,\n",
       " \"('ST', 'CK')\": 0,\n",
       " \"('SJ', 'SQ')\": 0,\n",
       " \"('SJ', 'SK')\": 0,\n",
       " \"('SJ', 'DA')\": 0,\n",
       " \"('SJ', 'D2')\": 0,\n",
       " \"('SJ', 'D3')\": 0,\n",
       " \"('SJ', 'D4')\": 0,\n",
       " \"('SJ', 'D5')\": 0,\n",
       " \"('SJ', 'D6')\": 0,\n",
       " \"('SJ', 'D7')\": 0,\n",
       " \"('SJ', 'D8')\": 0,\n",
       " \"('SJ', 'D9')\": 0,\n",
       " \"('SJ', 'DT')\": 0,\n",
       " \"('SJ', 'DJ')\": 12,\n",
       " \"('SJ', 'DQ')\": 0,\n",
       " \"('SJ', 'DK')\": 0,\n",
       " \"('SJ', 'HA')\": 0,\n",
       " \"('SJ', 'H2')\": 0,\n",
       " \"('SJ', 'H3')\": 0,\n",
       " \"('SJ', 'H4')\": 0,\n",
       " \"('SJ', 'H5')\": 0,\n",
       " \"('SJ', 'H6')\": 0,\n",
       " \"('SJ', 'H7')\": 0,\n",
       " \"('SJ', 'H8')\": 0,\n",
       " \"('SJ', 'H9')\": 0,\n",
       " \"('SJ', 'HT')\": 0,\n",
       " \"('SJ', 'HJ')\": 12,\n",
       " \"('SJ', 'HQ')\": 0,\n",
       " \"('SJ', 'HK')\": 0,\n",
       " \"('SJ', 'CA')\": 0,\n",
       " \"('SJ', 'C2')\": 0,\n",
       " \"('SJ', 'C3')\": 0,\n",
       " \"('SJ', 'C4')\": 0,\n",
       " \"('SJ', 'C5')\": 0,\n",
       " \"('SJ', 'C6')\": 0,\n",
       " \"('SJ', 'C7')\": 0,\n",
       " \"('SJ', 'C8')\": 0,\n",
       " \"('SJ', 'C9')\": 0,\n",
       " \"('SJ', 'CT')\": 0,\n",
       " \"('SJ', 'CJ')\": 12,\n",
       " \"('SJ', 'CQ')\": 0,\n",
       " \"('SJ', 'CK')\": 0,\n",
       " \"('SQ', 'SK')\": 0,\n",
       " \"('SQ', 'DA')\": 0,\n",
       " \"('SQ', 'D2')\": 0,\n",
       " \"('SQ', 'D3')\": 0,\n",
       " \"('SQ', 'D4')\": 0,\n",
       " \"('SQ', 'D5')\": 0,\n",
       " \"('SQ', 'D6')\": 0,\n",
       " \"('SQ', 'D7')\": 0,\n",
       " \"('SQ', 'D8')\": 0,\n",
       " \"('SQ', 'D9')\": 0,\n",
       " \"('SQ', 'DT')\": 0,\n",
       " \"('SQ', 'DJ')\": 0,\n",
       " \"('SQ', 'DQ')\": 13,\n",
       " \"('SQ', 'DK')\": 0,\n",
       " \"('SQ', 'HA')\": 0,\n",
       " \"('SQ', 'H2')\": 0,\n",
       " \"('SQ', 'H3')\": 0,\n",
       " \"('SQ', 'H4')\": 0,\n",
       " \"('SQ', 'H5')\": 0,\n",
       " \"('SQ', 'H6')\": 0,\n",
       " \"('SQ', 'H7')\": 0,\n",
       " \"('SQ', 'H8')\": 0,\n",
       " \"('SQ', 'H9')\": 0,\n",
       " \"('SQ', 'HT')\": 0,\n",
       " \"('SQ', 'HJ')\": 0,\n",
       " \"('SQ', 'HQ')\": 13,\n",
       " \"('SQ', 'HK')\": 0,\n",
       " \"('SQ', 'CA')\": 0,\n",
       " \"('SQ', 'C2')\": 0,\n",
       " \"('SQ', 'C3')\": 0,\n",
       " \"('SQ', 'C4')\": 0,\n",
       " \"('SQ', 'C5')\": 0,\n",
       " \"('SQ', 'C6')\": 0,\n",
       " \"('SQ', 'C7')\": 0,\n",
       " \"('SQ', 'C8')\": 0,\n",
       " \"('SQ', 'C9')\": 0,\n",
       " \"('SQ', 'CT')\": 0,\n",
       " \"('SQ', 'CJ')\": 0,\n",
       " \"('SQ', 'CQ')\": 13,\n",
       " \"('SQ', 'CK')\": 0,\n",
       " \"('SK', 'DA')\": 0,\n",
       " \"('SK', 'D2')\": 0,\n",
       " \"('SK', 'D3')\": 0,\n",
       " \"('SK', 'D4')\": 0,\n",
       " \"('SK', 'D5')\": 0,\n",
       " \"('SK', 'D6')\": 0,\n",
       " \"('SK', 'D7')\": 0,\n",
       " \"('SK', 'D8')\": 0,\n",
       " \"('SK', 'D9')\": 0,\n",
       " \"('SK', 'DT')\": 0,\n",
       " \"('SK', 'DJ')\": 0,\n",
       " \"('SK', 'DQ')\": 0,\n",
       " \"('SK', 'DK')\": 14,\n",
       " \"('SK', 'HA')\": 0,\n",
       " \"('SK', 'H2')\": 0,\n",
       " \"('SK', 'H3')\": 0,\n",
       " \"('SK', 'H4')\": 0,\n",
       " \"('SK', 'H5')\": 0,\n",
       " \"('SK', 'H6')\": 0,\n",
       " \"('SK', 'H7')\": 0,\n",
       " \"('SK', 'H8')\": 0,\n",
       " \"('SK', 'H9')\": 0,\n",
       " \"('SK', 'HT')\": 0,\n",
       " \"('SK', 'HJ')\": 0,\n",
       " \"('SK', 'HQ')\": 0,\n",
       " \"('SK', 'HK')\": 14,\n",
       " \"('SK', 'CA')\": 0,\n",
       " \"('SK', 'C2')\": 0,\n",
       " \"('SK', 'C3')\": 0,\n",
       " \"('SK', 'C4')\": 0,\n",
       " \"('SK', 'C5')\": 0,\n",
       " \"('SK', 'C6')\": 0,\n",
       " \"('SK', 'C7')\": 0,\n",
       " \"('SK', 'C8')\": 0,\n",
       " \"('SK', 'C9')\": 0,\n",
       " \"('SK', 'CT')\": 0,\n",
       " \"('SK', 'CJ')\": 0,\n",
       " \"('SK', 'CQ')\": 0,\n",
       " \"('SK', 'CK')\": 14,\n",
       " \"('DA', 'D2')\": -1,\n",
       " \"('DA', 'D3')\": 0,\n",
       " \"('DA', 'D4')\": 0,\n",
       " \"('DA', 'D5')\": 0,\n",
       " \"('DA', 'D6')\": 0,\n",
       " \"('DA', 'D7')\": 0,\n",
       " \"('DA', 'D8')\": 0,\n",
       " \"('DA', 'D9')\": 0,\n",
       " \"('DA', 'DT')\": 0,\n",
       " \"('DA', 'DJ')\": 0,\n",
       " \"('DA', 'DQ')\": 0,\n",
       " \"('DA', 'DK')\": 0,\n",
       " \"('DA', 'HA')\": 1,\n",
       " \"('DA', 'H2')\": 0,\n",
       " \"('DA', 'H3')\": 0,\n",
       " \"('DA', 'H4')\": 0,\n",
       " \"('DA', 'H5')\": 0,\n",
       " \"('DA', 'H6')\": 0,\n",
       " \"('DA', 'H7')\": 0,\n",
       " \"('DA', 'H8')\": 0,\n",
       " \"('DA', 'H9')\": 0,\n",
       " \"('DA', 'HT')\": 0,\n",
       " \"('DA', 'HJ')\": 0,\n",
       " \"('DA', 'HQ')\": 0,\n",
       " \"('DA', 'HK')\": 0,\n",
       " \"('DA', 'CA')\": 1,\n",
       " \"('DA', 'C2')\": 0,\n",
       " \"('DA', 'C3')\": 0,\n",
       " \"('DA', 'C4')\": 0,\n",
       " \"('DA', 'C5')\": 0,\n",
       " \"('DA', 'C6')\": 0,\n",
       " \"('DA', 'C7')\": 0,\n",
       " \"('DA', 'C8')\": 0,\n",
       " \"('DA', 'C9')\": 0,\n",
       " \"('DA', 'CT')\": 0,\n",
       " \"('DA', 'CJ')\": 0,\n",
       " \"('DA', 'CQ')\": 0,\n",
       " \"('DA', 'CK')\": 0,\n",
       " \"('D2', 'D3')\": 2,\n",
       " \"('D2', 'D4')\": 2,\n",
       " \"('D2', 'D5')\": 2,\n",
       " \"('D2', 'D6')\": 2,\n",
       " \"('D2', 'D7')\": 2,\n",
       " \"('D2', 'D8')\": 2,\n",
       " \"('D2', 'D9')\": 15,\n",
       " \"('D2', 'DT')\": 0,\n",
       " \"('D2', 'DJ')\": -1,\n",
       " \"('D2', 'DQ')\": -1,\n",
       " \"('D2', 'DK')\": -1,\n",
       " \"('D2', 'HA')\": 0,\n",
       " \"('D2', 'H2')\": 3,\n",
       " \"('D2', 'H3')\": 2,\n",
       " \"('D2', 'H4')\": 2,\n",
       " \"('D2', 'H5')\": 2,\n",
       " \"('D2', 'H6')\": 2,\n",
       " \"('D2', 'H7')\": 2,\n",
       " \"('D2', 'H8')\": 2,\n",
       " \"('D2', 'H9')\": 4,\n",
       " \"('D2', 'HT')\": 0,\n",
       " \"('D2', 'HJ')\": 0,\n",
       " \"('D2', 'HQ')\": 0,\n",
       " \"('D2', 'HK')\": 0,\n",
       " \"('D2', 'CA')\": 0,\n",
       " \"('D2', 'C2')\": 3,\n",
       " \"('D2', 'C3')\": 2,\n",
       " \"('D2', 'C4')\": 2,\n",
       " \"('D2', 'C5')\": 2,\n",
       " \"('D2', 'C6')\": 2,\n",
       " \"('D2', 'C7')\": 2,\n",
       " \"('D2', 'C8')\": 2,\n",
       " \"('D2', 'C9')\": 4,\n",
       " \"('D2', 'CT')\": 0,\n",
       " \"('D2', 'CJ')\": 0,\n",
       " \"('D2', 'CQ')\": 0,\n",
       " \"('D2', 'CK')\": 0,\n",
       " \"('D3', 'D4')\": 2,\n",
       " \"('D3', 'D5')\": 2,\n",
       " \"('D3', 'D6')\": 2,\n",
       " \"('D3', 'D7')\": 2,\n",
       " \"('D3', 'D8')\": 16,\n",
       " \"('D3', 'D9')\": 15,\n",
       " \"('D3', 'DT')\": 0,\n",
       " \"('D3', 'DJ')\": 0,\n",
       " \"('D3', 'DQ')\": 0,\n",
       " \"('D3', 'DK')\": 0,\n",
       " \"('D3', 'HA')\": 0,\n",
       " \"('D3', 'H2')\": 2,\n",
       " \"('D3', 'H3')\": 5,\n",
       " \"('D3', 'H4')\": 2,\n",
       " \"('D3', 'H5')\": 2,\n",
       " \"('D3', 'H6')\": 2,\n",
       " \"('D3', 'H7')\": 2,\n",
       " \"('D3', 'H8')\": 2,\n",
       " \"('D3', 'H9')\": 4,\n",
       " \"('D3', 'HT')\": 0,\n",
       " \"('D3', 'HJ')\": 0,\n",
       " \"('D3', 'HQ')\": 0,\n",
       " \"('D3', 'HK')\": 0,\n",
       " \"('D3', 'CA')\": 0,\n",
       " \"('D3', 'C2')\": 2,\n",
       " \"('D3', 'C3')\": 5,\n",
       " \"('D3', 'C4')\": 2,\n",
       " \"('D3', 'C5')\": 2,\n",
       " \"('D3', 'C6')\": 2,\n",
       " \"('D3', 'C7')\": 2,\n",
       " \"('D3', 'C8')\": 2,\n",
       " \"('D3', 'C9')\": 4,\n",
       " \"('D3', 'CT')\": 0,\n",
       " \"('D3', 'CJ')\": 0,\n",
       " \"('D3', 'CQ')\": 0,\n",
       " \"('D3', 'CK')\": 0,\n",
       " \"('D4', 'D5')\": 2,\n",
       " \"('D4', 'D6')\": 2,\n",
       " \"('D4', 'D7')\": 16,\n",
       " \"('D4', 'D8')\": 2,\n",
       " \"('D4', 'D9')\": 2,\n",
       " \"('D4', 'DT')\": 0,\n",
       " \"('D4', 'DJ')\": 0,\n",
       " \"('D4', 'DQ')\": 0,\n",
       " \"('D4', 'DK')\": 0,\n",
       " \"('D4', 'HA')\": 0,\n",
       " \"('D4', 'H2')\": 2,\n",
       " \"('D4', 'H3')\": 2,\n",
       " \"('D4', 'H4')\": 6,\n",
       " \"('D4', 'H5')\": 2,\n",
       " \"('D4', 'H6')\": 2,\n",
       " \"('D4', 'H7')\": 2,\n",
       " \"('D4', 'H8')\": 2,\n",
       " \"('D4', 'H9')\": 2,\n",
       " \"('D4', 'HT')\": 0,\n",
       " \"('D4', 'HJ')\": 0,\n",
       " \"('D4', 'HQ')\": 0,\n",
       " \"('D4', 'HK')\": 0,\n",
       " \"('D4', 'CA')\": 0,\n",
       " \"('D4', 'C2')\": 2,\n",
       " \"('D4', 'C3')\": 2,\n",
       " \"('D4', 'C4')\": 6,\n",
       " \"('D4', 'C5')\": 2,\n",
       " \"('D4', 'C6')\": 2,\n",
       " \"('D4', 'C7')\": 2,\n",
       " \"('D4', 'C8')\": 2,\n",
       " \"('D4', 'C9')\": 2,\n",
       " \"('D4', 'CT')\": 0,\n",
       " \"('D4', 'CJ')\": 0,\n",
       " \"('D4', 'CQ')\": 0,\n",
       " \"('D4', 'CK')\": 0,\n",
       " \"('D5', 'D6')\": 2,\n",
       " \"('D5', 'D7')\": 7,\n",
       " \"('D5', 'D8')\": 2,\n",
       " \"('D5', 'D9')\": 2,\n",
       " \"('D5', 'DT')\": 0,\n",
       " \"('D5', 'DJ')\": 0,\n",
       " \"('D5', 'DQ')\": 0,\n",
       " \"('D5', 'DK')\": 0,\n",
       " \"('D5', 'HA')\": 0,\n",
       " \"('D5', 'H2')\": 2,\n",
       " \"('D5', 'H3')\": 2,\n",
       " \"('D5', 'H4')\": 2,\n",
       " \"('D5', 'H5')\": 8,\n",
       " \"('D5', 'H6')\": 2,\n",
       " \"('D5', 'H7')\": 2,\n",
       " \"('D5', 'H8')\": 2,\n",
       " \"('D5', 'H9')\": 2,\n",
       " \"('D5', 'HT')\": 0,\n",
       " \"('D5', 'HJ')\": 0,\n",
       " \"('D5', 'HQ')\": 0,\n",
       " \"('D5', 'HK')\": 0,\n",
       " \"('D5', 'CA')\": 0,\n",
       " \"('D5', 'C2')\": 2,\n",
       " \"('D5', 'C3')\": 2,\n",
       " \"('D5', 'C4')\": 2,\n",
       " \"('D5', 'C5')\": 8,\n",
       " \"('D5', 'C6')\": 2,\n",
       " \"('D5', 'C7')\": 2,\n",
       " \"('D5', 'C8')\": 2,\n",
       " \"('D5', 'C9')\": 2,\n",
       " \"('D5', 'CT')\": 0,\n",
       " \"('D5', 'CJ')\": 0,\n",
       " \"('D5', 'CQ')\": 0,\n",
       " \"('D5', 'CK')\": 0,\n",
       " \"('D6', 'D7')\": 7,\n",
       " \"('D6', 'D8')\": 2,\n",
       " \"('D6', 'D9')\": 2,\n",
       " \"('D6', 'DT')\": 0,\n",
       " \"('D6', 'DJ')\": 0,\n",
       " \"('D6', 'DQ')\": 0,\n",
       " \"('D6', 'DK')\": 0,\n",
       " \"('D6', 'HA')\": 0,\n",
       " \"('D6', 'H2')\": 2,\n",
       " \"('D6', 'H3')\": 2,\n",
       " \"('D6', 'H4')\": 2,\n",
       " \"('D6', 'H5')\": 2,\n",
       " \"('D6', 'H6')\": 9,\n",
       " \"('D6', 'H7')\": 2,\n",
       " \"('D6', 'H8')\": 2,\n",
       " \"('D6', 'H9')\": 2,\n",
       " \"('D6', 'HT')\": 0,\n",
       " \"('D6', 'HJ')\": 0,\n",
       " \"('D6', 'HQ')\": 0,\n",
       " \"('D6', 'HK')\": 0,\n",
       " \"('D6', 'CA')\": 0,\n",
       " \"('D6', 'C2')\": 2,\n",
       " \"('D6', 'C3')\": 2,\n",
       " \"('D6', 'C4')\": 2,\n",
       " \"('D6', 'C5')\": 2,\n",
       " \"('D6', 'C6')\": 9,\n",
       " \"('D6', 'C7')\": 2,\n",
       " \"('D6', 'C8')\": 2,\n",
       " \"('D6', 'C9')\": 2,\n",
       " \"('D6', 'CT')\": 0,\n",
       " \"('D6', 'CJ')\": 0,\n",
       " \"('D6', 'CQ')\": 0,\n",
       " \"('D6', 'CK')\": 0,\n",
       " \"('D7', 'D8')\": 2,\n",
       " \"('D7', 'D9')\": 2,\n",
       " \"('D7', 'DT')\": 0,\n",
       " \"('D7', 'DJ')\": 0,\n",
       " \"('D7', 'DQ')\": 0,\n",
       " \"('D7', 'DK')\": 0,\n",
       " \"('D7', 'HA')\": 0,\n",
       " \"('D7', 'H2')\": 2,\n",
       " \"('D7', 'H3')\": 2,\n",
       " \"('D7', 'H4')\": 2,\n",
       " \"('D7', 'H5')\": 2,\n",
       " \"('D7', 'H6')\": 2,\n",
       " \"('D7', 'H7')\": 9,\n",
       " \"('D7', 'H8')\": 2,\n",
       " \"('D7', 'H9')\": 2,\n",
       " \"('D7', 'HT')\": 0,\n",
       " \"('D7', 'HJ')\": 0,\n",
       " \"('D7', 'HQ')\": 0,\n",
       " \"('D7', 'HK')\": 0,\n",
       " \"('D7', 'CA')\": 0,\n",
       " \"('D7', 'C2')\": 2,\n",
       " \"('D7', 'C3')\": 2,\n",
       " \"('D7', 'C4')\": 2,\n",
       " \"('D7', 'C5')\": 2,\n",
       " \"('D7', 'C6')\": 2,\n",
       " \"('D7', 'C7')\": 9,\n",
       " \"('D7', 'C8')\": 2,\n",
       " \"('D7', 'C9')\": 2,\n",
       " \"('D7', 'CT')\": 0,\n",
       " \"('D7', 'CJ')\": 0,\n",
       " \"('D7', 'CQ')\": 0,\n",
       " \"('D7', 'CK')\": 0,\n",
       " \"('D8', 'D9')\": 17,\n",
       " \"('D8', 'DT')\": 0,\n",
       " \"('D8', 'DJ')\": 0,\n",
       " \"('D8', 'DQ')\": 0,\n",
       " \"('D8', 'DK')\": 0,\n",
       " \"('D8', 'HA')\": 0,\n",
       " \"('D8', 'H2')\": 2,\n",
       " \"('D8', 'H3')\": 2,\n",
       " \"('D8', 'H4')\": 2,\n",
       " \"('D8', 'H5')\": 2,\n",
       " \"('D8', 'H6')\": 2,\n",
       " \"('D8', 'H7')\": 2,\n",
       " \"('D8', 'H8')\": 10,\n",
       " \"('D8', 'H9')\": 2,\n",
       " \"('D8', 'HT')\": 0,\n",
       " \"('D8', 'HJ')\": 0,\n",
       " \"('D8', 'HQ')\": 0,\n",
       " \"('D8', 'HK')\": 0,\n",
       " \"('D8', 'CA')\": 0,\n",
       " \"('D8', 'C2')\": 2,\n",
       " \"('D8', 'C3')\": 2,\n",
       " \"('D8', 'C4')\": 2,\n",
       " \"('D8', 'C5')\": 2,\n",
       " \"('D8', 'C6')\": 2,\n",
       " \"('D8', 'C7')\": 2,\n",
       " \"('D8', 'C8')\": 10,\n",
       " \"('D8', 'C9')\": 2,\n",
       " \"('D8', 'CT')\": 0,\n",
       " \"('D8', 'CJ')\": 0,\n",
       " \"('D8', 'CQ')\": 0,\n",
       " \"('D8', 'CK')\": 0,\n",
       " \"('D9', 'DT')\": 0,\n",
       " \"('D9', 'DJ')\": 0,\n",
       " \"('D9', 'DQ')\": 0,\n",
       " \"('D9', 'DK')\": 0,\n",
       " \"('D9', 'HA')\": 0,\n",
       " \"('D9', 'H2')\": 4,\n",
       " \"('D9', 'H3')\": 4,\n",
       " \"('D9', 'H4')\": 2,\n",
       " \"('D9', 'H5')\": 2,\n",
       " \"('D9', 'H6')\": 2,\n",
       " \"('D9', 'H7')\": 2,\n",
       " \"('D9', 'H8')\": 2,\n",
       " \"('D9', 'H9')\": 10,\n",
       " \"('D9', 'HT')\": 0,\n",
       " \"('D9', 'HJ')\": 0,\n",
       " \"('D9', 'HQ')\": 0,\n",
       " \"('D9', 'HK')\": 0,\n",
       " \"('D9', 'CA')\": 0,\n",
       " \"('D9', 'C2')\": 4,\n",
       " \"('D9', 'C3')\": 4,\n",
       " \"('D9', 'C4')\": 2,\n",
       " \"('D9', 'C5')\": 2,\n",
       " \"('D9', 'C6')\": 2,\n",
       " \"('D9', 'C7')\": 2,\n",
       " \"('D9', 'C8')\": 2,\n",
       " \"('D9', 'C9')\": 10,\n",
       " \"('D9', 'CT')\": 0,\n",
       " \"('D9', 'CJ')\": 0,\n",
       " \"('D9', 'CQ')\": 0,\n",
       " \"('D9', 'CK')\": 0,\n",
       " \"('DT', 'DJ')\": 0,\n",
       " \"('DT', 'DQ')\": 0,\n",
       " \"('DT', 'DK')\": 0,\n",
       " \"('DT', 'HA')\": 0,\n",
       " \"('DT', 'H2')\": 0,\n",
       " \"('DT', 'H3')\": 0,\n",
       " \"('DT', 'H4')\": -1,\n",
       " \"('DT', 'H5')\": 0,\n",
       " \"('DT', 'H6')\": 0,\n",
       " \"('DT', 'H7')\": 0,\n",
       " \"('DT', 'H8')\": 0,\n",
       " \"('DT', 'H9')\": 0,\n",
       " \"('DT', 'HT')\": 11,\n",
       " \"('DT', 'HJ')\": 0,\n",
       " \"('DT', 'HQ')\": 0,\n",
       " \"('DT', 'HK')\": 0,\n",
       " \"('DT', 'CA')\": 0,\n",
       " \"('DT', 'C2')\": 0,\n",
       " \"('DT', 'C3')\": 0,\n",
       " \"('DT', 'C4')\": 0,\n",
       " \"('DT', 'C5')\": 0,\n",
       " \"('DT', 'C6')\": 0,\n",
       " \"('DT', 'C7')\": 0,\n",
       " \"('DT', 'C8')\": 0,\n",
       " \"('DT', 'C9')\": 0,\n",
       " \"('DT', 'CT')\": 11,\n",
       " \"('DT', 'CJ')\": 0,\n",
       " \"('DT', 'CQ')\": 0,\n",
       " \"('DT', 'CK')\": 0,\n",
       " \"('DJ', 'DQ')\": 0,\n",
       " \"('DJ', 'DK')\": 0,\n",
       " \"('DJ', 'HA')\": 0,\n",
       " \"('DJ', 'H2')\": 0,\n",
       " \"('DJ', 'H3')\": 0,\n",
       " \"('DJ', 'H4')\": 0,\n",
       " \"('DJ', 'H5')\": 0,\n",
       " \"('DJ', 'H6')\": 0,\n",
       " \"('DJ', 'H7')\": 0,\n",
       " \"('DJ', 'H8')\": 0,\n",
       " \"('DJ', 'H9')\": 0,\n",
       " \"('DJ', 'HT')\": 0,\n",
       " \"('DJ', 'HJ')\": 12,\n",
       " \"('DJ', 'HQ')\": 0,\n",
       " \"('DJ', 'HK')\": 0,\n",
       " \"('DJ', 'CA')\": 0,\n",
       " \"('DJ', 'C2')\": -1,\n",
       " \"('DJ', 'C3')\": 0,\n",
       " \"('DJ', 'C4')\": 0,\n",
       " \"('DJ', 'C5')\": 0,\n",
       " \"('DJ', 'C6')\": 0,\n",
       " \"('DJ', 'C7')\": 0,\n",
       " \"('DJ', 'C8')\": 0,\n",
       " \"('DJ', 'C9')\": 0,\n",
       " \"('DJ', 'CT')\": 0,\n",
       " \"('DJ', 'CJ')\": 12,\n",
       " \"('DJ', 'CQ')\": 0,\n",
       " \"('DJ', 'CK')\": 0,\n",
       " \"('DQ', 'DK')\": 0,\n",
       " \"('DQ', 'HA')\": 0,\n",
       " \"('DQ', 'H2')\": 0,\n",
       " \"('DQ', 'H3')\": 0,\n",
       " \"('DQ', 'H4')\": 0,\n",
       " \"('DQ', 'H5')\": 0,\n",
       " \"('DQ', 'H6')\": 0,\n",
       " \"('DQ', 'H7')\": 0,\n",
       " \"('DQ', 'H8')\": 0,\n",
       " \"('DQ', 'H9')\": 0,\n",
       " \"('DQ', 'HT')\": 0,\n",
       " \"('DQ', 'HJ')\": 0,\n",
       " \"('DQ', 'HQ')\": 13,\n",
       " \"('DQ', 'HK')\": 0,\n",
       " \"('DQ', 'CA')\": 0,\n",
       " \"('DQ', 'C2')\": 0,\n",
       " \"('DQ', 'C3')\": 0,\n",
       " \"('DQ', 'C4')\": 0,\n",
       " \"('DQ', 'C5')\": 0,\n",
       " \"('DQ', 'C6')\": 0,\n",
       " \"('DQ', 'C7')\": 0,\n",
       " \"('DQ', 'C8')\": 0,\n",
       " \"('DQ', 'C9')\": 0,\n",
       " \"('DQ', 'CT')\": 0,\n",
       " \"('DQ', 'CJ')\": 0,\n",
       " \"('DQ', 'CQ')\": 13,\n",
       " \"('DQ', 'CK')\": 0,\n",
       " \"('DK', 'HA')\": 0,\n",
       " \"('DK', 'H2')\": 0,\n",
       " \"('DK', 'H3')\": 0,\n",
       " \"('DK', 'H4')\": 0,\n",
       " \"('DK', 'H5')\": 0,\n",
       " \"('DK', 'H6')\": 0,\n",
       " \"('DK', 'H7')\": 0,\n",
       " \"('DK', 'H8')\": 0,\n",
       " \"('DK', 'H9')\": 0,\n",
       " \"('DK', 'HT')\": 0,\n",
       " \"('DK', 'HJ')\": 0,\n",
       " \"('DK', 'HQ')\": 0,\n",
       " \"('DK', 'HK')\": 14,\n",
       " \"('DK', 'CA')\": 0,\n",
       " \"('DK', 'C2')\": 0,\n",
       " \"('DK', 'C3')\": 0,\n",
       " \"('DK', 'C4')\": 0,\n",
       " \"('DK', 'C5')\": 0,\n",
       " \"('DK', 'C6')\": 0,\n",
       " \"('DK', 'C7')\": 0,\n",
       " \"('DK', 'C8')\": 0,\n",
       " \"('DK', 'C9')\": 0,\n",
       " \"('DK', 'CT')\": 0,\n",
       " \"('DK', 'CJ')\": 0,\n",
       " \"('DK', 'CQ')\": 0,\n",
       " ...}"
      ]
     },
     "execution_count": 40,
     "metadata": {},
     "output_type": "execute_result"
    }
   ],
   "source": [
    "output"
   ]
  },
  {
   "cell_type": "code",
   "execution_count": 49,
   "metadata": {},
   "outputs": [
    {
     "name": "stdout",
     "output_type": "stream",
     "text": [
      "('SA', 'DA')\n",
      "('SA', 'HA')\n",
      "('SA', 'CA')\n",
      "('DA', 'HA')\n",
      "('DA', 'CA')\n",
      "('HA', 'CA')\n"
     ]
    }
   ],
   "source": [
    "for  i in output:\n",
    "    if output[i] == 15:\n",
    "        print(i)"
   ]
  },
  {
   "cell_type": "code",
   "execution_count": null,
   "metadata": {},
   "outputs": [],
   "source": []
  }
 ],
 "metadata": {
  "kernelspec": {
   "display_name": "Python 3",
   "language": "python",
   "name": "python3"
  },
  "language_info": {
   "codemirror_mode": {
    "name": "ipython",
    "version": 3
   },
   "file_extension": ".py",
   "mimetype": "text/x-python",
   "name": "python",
   "nbconvert_exporter": "python",
   "pygments_lexer": "ipython3",
   "version": "3.6.5"
  }
 },
 "nbformat": 4,
 "nbformat_minor": 2
}
